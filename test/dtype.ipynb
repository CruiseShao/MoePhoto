{
 "cells": [
  {
   "cell_type": "code",
   "execution_count": null,
   "metadata": {},
   "outputs": [],
   "source": [
    "import sys\n",
    "sys.path.append('../python')\n",
    "import torch\n",
    "import torch.nn.functional as F\n",
    "from PIL import Image\n",
    "import cv2\n",
    "from config import config\n",
    "from imageProcess import toTorch, readFile, genGetModel, toOutput\n",
    "from models import Net4x\n",
    "import runSR\n",
    "\n",
    "show = lambda im: Image.fromarray(cv2.cvtColor(toOutput(8)(im), cv2.COLOR_BGR2RGB))\n",
    "@genGetModel\n",
    "def getModel(opt):\n",
    "  return Net4x()\n",
    "\n",
    "def SRopt():pass\n",
    "SRopt.model = '../model/a4/model_new.pth'\n",
    "SRopt.scale = 4\n",
    "SRopt.ramCoef = 1 / 8000.\n",
    "SRopt.cropsize = 0"
   ]
  },
  {
   "cell_type": "code",
   "execution_count": null,
   "metadata": {},
   "outputs": [],
   "source": [
    "config.halfPrecision = True\n",
    "config.maxGraphicMemoryUsage = 3*2**31\n",
    "config.getFreeMem()\n",
    "device = torch.device('cuda')\n",
    "dtype = torch.half\n",
    "SRopt.modelCached = getModel(SRopt)"
   ]
  },
  {
   "cell_type": "code",
   "execution_count": null,
   "metadata": {},
   "outputs": [],
   "source": [
    "original = toTorch(256, dtype, device)(readFile('t.png'))\n",
    "small = toTorch(256, dtype, device)(readFile('s.png'))\n",
    "print(dtype, original.shape, small.shape)"
   ]
  },
  {
   "cell_type": "code",
   "execution_count": null,
   "metadata": {},
   "outputs": [],
   "source": [
    "show(small)"
   ]
  },
  {
   "cell_type": "code",
   "execution_count": null,
   "metadata": {},
   "outputs": [],
   "source": [
    "res = runSR.sr(small, SRopt)\n",
    "print(F.l1_loss(res.to(dtype=torch.float), original.to(dtype=torch.float)))\n",
    "print(F.mse_loss(res.to(dtype=torch.float), original.to(dtype=torch.float)))\n",
    "show(res)"
   ]
  }
 ],
 "metadata": {
  "kernelspec": {
   "display_name": "Python 3",
   "language": "python",
   "name": "python3"
  },
  "language_info": {
   "codemirror_mode": {
    "name": "ipython",
    "version": 3
   },
   "file_extension": ".py",
   "mimetype": "text/x-python",
   "name": "python",
   "nbconvert_exporter": "python",
   "pygments_lexer": "ipython3",
   "version": "3.7.7"
  }
 },
 "nbformat": 4,
 "nbformat_minor": 2
}
