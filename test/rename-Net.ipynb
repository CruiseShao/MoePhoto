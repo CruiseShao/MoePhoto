{
 "cells": [
  {
   "cell_type": "code",
   "execution_count": null,
   "metadata": {},
   "outputs": [],
   "source": [
    "%run -i rename.py"
   ]
  },
  {
   "cell_type": "code",
   "execution_count": null,
   "metadata": {},
   "outputs": [],
   "source": [
    "from models import Net2x, Net3x, Net4x, NetDN\n",
    "models = (Net2x, Net3x, Net4x, NetDN)\n",
    "paths = [\n",
    "    ('../model/a2/model_new.pth', '../model/p2/model_new.pth'),\n",
    "    ('../model/a3/model_new.pth', '../model/p3/model_new.pth'),\n",
    "    ('../model/a4/model_new.pth', '../model/p4/model_new.pth'),\n",
    "    ('../model/dn_lite5/model_new.pth', '../model/dn_lite10/model_new.pth', '../model/dn_lite15/model_new.pth')\n",
    "]"
   ]
  },
  {
   "cell_type": "code",
   "execution_count": null,
   "metadata": {},
   "outputs": [],
   "source": [
    "rsts = [\n",
    "    ((r'convt_F.\\.',), None, None, '', '0.')\n",
    "]"
   ]
  },
  {
   "cell_type": "code",
   "execution_count": null,
   "metadata": {},
   "outputs": [],
   "source": [
    "for i, mC in enumerate(models):\n",
    "    m = mC()\n",
    "    for modelPath in paths[i]:\n",
    "        print(modelPath)\n",
    "        weights = torch.load(modelPath, map_location='cpu')\n",
    "        getW = getNames(weights)\n",
    "        ccW = cc(weights)\n",
    "        ccW(rsts)\n",
    "        m.load_state_dict(weights)\n",
    "        torch.save(m.state_dict(), modelPath, pickle_protocol=4)"
   ]
  },
  {
   "cell_type": "code",
   "execution_count": null,
   "metadata": {},
   "outputs": [],
   "source": [
    "m = m.to(dtype=config.dtype(), device=config.device()).eval()\n",
    "opt = Option(paths[0][0])\n",
    "opt.padding = 5\n",
    "opt.ramCoef = 1 / 5000.\n",
    "opt.squeeze = lambda x: x.squeeze(1)\n",
    "opt.unsqueeze = lambda x: x.unsqueeze(1)\n",
    "opt.modelCached = m"
   ]
  },
  {
   "cell_type": "code",
   "execution_count": null,
   "metadata": {},
   "outputs": [],
   "source": [
    "original = readPic('../images/example1s.png')\n",
    "show(original)"
   ]
  },
  {
   "cell_type": "code",
   "execution_count": null,
   "metadata": {},
   "outputs": [],
   "source": [
    "y = ensemble(opt)(original)\n",
    "show(y)"
   ]
  }
 ],
 "metadata": {
  "kernelspec": {
   "display_name": "Python 3",
   "language": "python",
   "name": "python3"
  },
  "language_info": {
   "codemirror_mode": {
    "name": "ipython",
    "version": 3
   },
   "file_extension": ".py",
   "mimetype": "text/x-python",
   "name": "python",
   "nbconvert_exporter": "python",
   "pygments_lexer": "ipython3",
   "version": "3.7.7"
  }
 },
 "nbformat": 4,
 "nbformat_minor": 2
}
