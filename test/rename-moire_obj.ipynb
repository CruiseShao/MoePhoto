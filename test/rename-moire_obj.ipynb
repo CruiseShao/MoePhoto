{
 "cells": [
  {
   "cell_type": "code",
   "execution_count": null,
   "metadata": {},
   "outputs": [],
   "source": [
    "%run -i rename.py"
   ]
  },
  {
   "cell_type": "code",
   "execution_count": null,
   "metadata": {},
   "outputs": [],
   "source": [
    "from moire_obj import Net\n",
    "m = Net()"
   ]
  },
  {
   "cell_type": "code",
   "execution_count": null,
   "metadata": {},
   "outputs": [],
   "source": [
    "modelPath = '../model/demoire/moire_obj.pth'\n",
    "weights = torch.load(modelPath, map_location='cpu')\n",
    "\n",
    "getW = getNames(weights)\n",
    "ccW = cc(weights)"
   ]
  },
  {
   "cell_type": "code",
   "execution_count": null,
   "metadata": {},
   "outputs": [],
   "source": [
    "#modelPath = 'moire_t.pth'\n",
    "torch.save(weights, modelPath, pickle_protocol=4)"
   ]
  },
  {
   "cell_type": "code",
   "execution_count": null,
   "metadata": {},
   "outputs": [],
   "source": [
    "weights = torch.load('moire_t.pth', map_location='cpu')"
   ]
  },
  {
   "cell_type": "code",
   "execution_count": null,
   "metadata": {},
   "outputs": [],
   "source": [
    "list(weights.keys())"
   ]
  },
  {
   "cell_type": "code",
   "execution_count": null,
   "metadata": {},
   "outputs": [],
   "source": [
    "rsts = [\n",
    "    ((r'(to_clean1\\.)se\\.',), None, None, 'se.', 'residual.0.'),\n",
    "    ((r'(to_clean1\\.)gff\\.',), None, None, 'gff.', 'residual.0.'),\n",
    "    ((r'(to_clean1\\.)relu\\.',), None, None, 'relu.', 'residual.0.'),\n",
    "    ((r'branch.\\.cats\\.',), 'relu1.', 'ms.0.0.', None, None),\n",
    "    ((r'branch.\\.convt_F(18|19|20)\\.',), 'relu2.', 'ms.1.0.', None, None),\n",
    "    ((r'branch.\\.convt_F(18|19|20)\\.',), 'relu3.', 'ms.2.0.', None, None),\n",
    "    ((r'branch.\\.convt_F(18|19|20)\\.',), 'conv1.', 'ms.0.1.', None, None),\n",
    "    ((r'branch.\\.convt_F(18|19|20)\\.',), 'conv2.', 'ms.1.1.', None, None),\n",
    "    ((r'branch.\\.convt_F(18|19|20)\\.',), 'conv3.', 'ms.2.1.', None, None),\n",
    "    ((r'down2_.\\.block\\.', r'branch.\\.convt_F..\\.'), 'ca1.', '0.ca.', None, None),\n",
    "    ((r'down2_.\\.block\\.', r'branch.\\.convt_F..\\.'), 'ca2.', '1.ca.', None, None),\n",
    "    ((r'down2_.\\.block\\.', r'branch.\\.convt_F..\\.'), 'relu1.', '0.relu.', None, None),\n",
    "    ((r'down2_.\\.block\\.', r'branch.\\.convt_F..\\.'), 'relu2.', '1.relu.', None, None),\n",
    "    ((r'down2_.\\.block\\.', r'branch.\\.convt_F..\\.'), 'conv1.', '0.conv1.', None, None),\n",
    "    ((r'down2_.\\.block\\.', r'branch.\\.convt_F..\\.'), 'conv2.', '0.conv2.', None, None),\n",
    "    ((r'down2_.\\.block\\.', r'branch.\\.convt_F..\\.'), 'conv3.', '1.conv1.', None, None),\n",
    "    ((r'down2_.\\.block\\.', r'branch.\\.convt_F..\\.'), 'conv4.', '1.conv2.', None, None),\n",
    "    ((r'down2_.\\.block\\.[01]\\.', r'branch.\\.convt_F..\\.[01]\\.'), None, None, '', '0.'),\n",
    "    ((r'branch.\\.cats\\.',), None, None, 'conv_du.', '0.'),\n",
    "    ((r'branch.\\.cats\\.',), 'trans.', '1.', None, None),\n",
    "    ((r'(branch.\\.)cats\\.',), 'cats.', 'deepF.0.', None, None),\n",
    "    ((r'(branch2\\.)SA1\\.',), 'SA1.', 'deepF.1.', None, None),\n",
    "] + [\n",
    "    reT(fm1(i, r'(branch.\\.)convt_F0{}\\.', 'convt_F0{}.', 'shallowF.{}.')) for i in range(5)\n",
    "] + [\n",
    "    reT(fm1(i, r'(branch1\\.)convt_F1{}\\.', 'convt_F1{}.', 'convt_F.{}.')) for i in range(9)\n",
    "] + [\n",
    "    reT(fm1(i, r'(branch3\\.)convt_F1{}\\.', 'convt_F1{}.', 'convt_F.{}.')) for i in range(9)\n",
    "] + [\n",
    "    reT(fm1(i, r'(branch.\\.deepF\\..*\\.)scale{}', 'scale{}.', 'scale.{}.scale')) for i in range(5)\n",
    "] + [\n",
    "    ((r'(branch2\\.)convt_F11\\.',), 'convt_F11.', 'deepF.2.', None, None),\n",
    "    ((r'(branch2\\.)convt_F12\\.',), 'convt_F12.', 'deepF.3.', None, None),\n",
    "    ((r'(branch2\\.)convt_F13\\.',), 'convt_F13.', 'deepF.4.', None, None),\n",
    "    ((r'(branch2\\.)convt_F14\\.',), 'convt_F14.', 'deepF.5.', None, None),\n",
    "    ((r'(branch2\\.)convt_F15\\.',), 'convt_F15.', 'deepF.6.', None, None),\n",
    "    ((r'(branch2\\.)convt_F16\\.',), 'convt_F16.', 'deepF.7.', None, None),\n",
    "    ((r'(branch2\\.)convt_F17\\.',), 'convt_F17.', 'deepF.8.', None, None),\n",
    "    ((r'(branch2\\.)convt_F18\\.',), 'convt_F18.', 'deepF.9.', None, None),\n",
    "    ((r'(branch2\\.)convt_F19\\.',), 'convt_F19.', 'deepF.10.', None, None),\n",
    "    ((r'(branch3\\.)convt_F20\\.',), 'convt_F20.', 'deepF.9.', None, None),\n",
    "    ((r'(branch.\\.)SA2\\.',), None, None, 'SA2', 'combineF.'),\n",
    "    ((r'branch.\\.u1\\.',), 'conv.', '0.', None, None),\n",
    "    ((r'branch.\\.u1\\.',), 'prelu.', '2.', None, None),\n",
    "    ((r'branch.\\.u2\\.',), 'conv.', '0.', None, None),\n",
    "    ((r'branch.\\.u2\\.',), 'prelu.', '2.', None, None),\n",
    "    ((r'(branch.\\.)u1\\.',), None, None, 'u1', 'combineF.'),\n",
    "    ((r'(branch.\\.)conv_input\\.',), None, None, 'conv_input.', 'inputF.'),\n",
    "    ((r'(branch.\\.)relu\\.',), None, None, 'relu.', 'inputF.'),\n",
    "    ((r'()branch3\\.',), None, None, 'branch3.', 'U.3.3.'),\n",
    "    ((r'()SA3\\.',), None, None, 'SA3.', 'U.3.3.'),\n",
    "    ((r'()branch2\\.',), None, None, 'branch2.', 'U.3.'),\n",
    "    ((r'()SA2\\.',), None, None, 'SA2.', 'U.3.'),\n",
    "    ((r'()down2_2\\.',), None, None, 'down2_2.', 'U.3.'),\n",
    "    ((r'()branch1\\.',), None, None, 'branch1.', 'U.'),\n",
    "    ((r'()down2_1\\.',), None, None, 'down2_1.', 'U.'),\n",
    "]"
   ]
  },
  {
   "cell_type": "code",
   "execution_count": null,
   "metadata": {},
   "outputs": [],
   "source": [
    "removeRoot(weights, 'branch3.cats')\n",
    "removeRoot(weights, 'branch3.u2')\n",
    "removeRoot(weights, 'branch1.SA1')\n",
    "removeRoot(weights, 'branch1.conv_input2')\n",
    "for scale3, scale4 in getW(((r'branch.\\.deepF\\..*.scale.',), '3.scale', '4.scale', None, None)):\n",
    "    weights[scale3] *= weights[scale4]\n",
    "ccW(rsts)\n",
    "m.load_state_dict(weights)"
   ]
  },
  {
   "cell_type": "code",
   "execution_count": null,
   "metadata": {},
   "outputs": [],
   "source": [
    "w1 = m.state_dict()\n",
    "list(w1.keys())"
   ]
  },
  {
   "cell_type": "code",
   "execution_count": null,
   "metadata": {},
   "outputs": [],
   "source": [
    "torch.save(model.state_dict(), modelPath)"
   ]
  },
  {
   "cell_type": "code",
   "execution_count": null,
   "metadata": {},
   "outputs": [],
   "source": [
    "paths = reduce(lambda a, t: a + [t[0] + '/' + n for n in t[2]], os.walk('../model'), [])\n",
    "paths"
   ]
  }
 ],
 "metadata": {
  "kernelspec": {
   "display_name": "Python 3",
   "language": "python",
   "name": "python3"
  },
  "language_info": {
   "codemirror_mode": {
    "name": "ipython",
    "version": 3
   },
   "file_extension": ".py",
   "mimetype": "text/x-python",
   "name": "python",
   "nbconvert_exporter": "python",
   "pygments_lexer": "ipython3",
   "version": "3.7.7"
  }
 },
 "nbformat": 4,
 "nbformat_minor": 2
}
