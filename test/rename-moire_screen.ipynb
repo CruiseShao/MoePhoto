{
 "cells": [
  {
   "cell_type": "code",
   "execution_count": null,
   "metadata": {},
   "outputs": [],
   "source": [
    "%run -i rename.py"
   ]
  },
  {
   "cell_type": "code",
   "execution_count": null,
   "metadata": {},
   "outputs": [],
   "source": [
    "from moire_screen_gan import Net\n",
    "m = Net()"
   ]
  },
  {
   "cell_type": "code",
   "execution_count": null,
   "metadata": {},
   "outputs": [],
   "source": [
    "modelPath = '../model/demoire/moire_screen_gan.pth'\n",
    "weights = torch.load(modelPath, map_location='cpu')\n",
    "\n",
    "getW = getNames(weights)\n",
    "ccW = cc(weights)"
   ]
  },
  {
   "cell_type": "code",
   "execution_count": null,
   "metadata": {},
   "outputs": [],
   "source": [
    "#modelPath = 'moire_t.pth'\n",
    "torch.save(weights, modelPath, pickle_protocol=4)"
   ]
  },
  {
   "cell_type": "code",
   "execution_count": null,
   "metadata": {},
   "outputs": [],
   "source": [
    "weights = torch.load('moire_t.pth', map_location='cpu')"
   ]
  },
  {
   "cell_type": "code",
   "execution_count": null,
   "metadata": {},
   "outputs": [],
   "source": [
    "list(weights.keys())"
   ]
  },
  {
   "cell_type": "code",
   "execution_count": null,
   "metadata": {},
   "outputs": [],
   "source": [
    "w1 = m.state_dict()\n",
    "list(w1.keys())"
   ]
  },
  {
   "cell_type": "code",
   "execution_count": null,
   "metadata": {},
   "outputs": [],
   "source": [
    "rsts = [\n",
    "    ((r'branch.\\.convt_F..\\.',), 'ca1.', '0.ca.', None, None),\n",
    "    ((r'branch.\\.convt_F..\\.',), 'ca2.', '1.ca.', None, None),\n",
    "    ((r'branch.\\.convt_F..\\.',), 'relu1.', '0.relu.', None, None),\n",
    "    ((r'branch.\\.convt_F..\\.',), 'relu2.', '1.relu.', None, None),\n",
    "    ((r'branch.\\.convt_F..\\.',), 'conv1.', '0.conv1.', None, None),\n",
    "    ((r'branch.\\.convt_F..\\.',), 'conv2.', '0.conv2.', None, None),\n",
    "    ((r'branch.\\.convt_F..\\.',), 'conv3.', '1.conv1.', None, None),\n",
    "    ((r'branch.\\.convt_F..\\.',), 'conv4.', '1.conv2.', None, None),\n",
    "    ((r'branch.\\.convt_F..\\.[01]\\.',), None, None, '', '0.'),\n",
    "    ((r'branch.\\.u.\\.',), 'conv.', '0.', None, None),\n",
    "    ((r'branch.\\.u.\\.',), 'prelu.', '2.', None, None),\n",
    "    ((r'branch.\\.non_local\\.non_local\\.[^.]+\\.',), '0.', '', None, None)\n",
    "] + [\n",
    "    reT(fm1(i, r'(branch.\\.)convt_F1{}\\.', 'convt_F1{}.', 'convt_F.{}.')) for i in range(8)\n",
    "] + [\n",
    "    reT(fm1(i, r'(branch.\\.)s_conv{}\\.', 's_conv{}.', 's_conv.{}.')) for i in range(8)\n",
    "] + [\n",
    "    reT(fm1(i, r'(branch.\\.)u{}\\.', 'u{}.', 'u.{}.')) for i in range(8)\n",
    "] + [\n",
    "    reT(fm1(i, r'()branch{}\\.', 'branch{}.', 'branches.{}.')) for i in range(5)\n",
    "] + [\n",
    "    reT(fm1(i, r'()scale{}\\.', 'scale{}.', 'scales.{}.')) for i in range(5)\n",
    "] + [\n",
    "    reT(fm1(i, r'()down2_{}\\.', 'down2_{}.', '_down2.{}.')) for i in range(4)\n",
    "]"
   ]
  },
  {
   "cell_type": "code",
   "execution_count": null,
   "metadata": {},
   "outputs": [],
   "source": [
    "removeRoot(weights, 'branch6')\n",
    "removeRoot(weights, 'scale6')\n",
    "removeRoot(weights, 'down2_5')\n",
    "ccW(rsts)\n",
    "m.load_state_dict(weights)"
   ]
  },
  {
   "cell_type": "code",
   "execution_count": null,
   "metadata": {},
   "outputs": [],
   "source": [
    "torch.save(m.state_dict(), modelPath)"
   ]
  }
 ],
 "metadata": {
  "kernelspec": {
   "display_name": "Python 3",
   "language": "python",
   "name": "python3"
  },
  "language_info": {
   "codemirror_mode": {
    "name": "ipython",
    "version": 3
   },
   "file_extension": ".py",
   "mimetype": "text/x-python",
   "name": "python",
   "nbconvert_exporter": "python",
   "pygments_lexer": "ipython3",
   "version": "3.7.7"
  }
 },
 "nbformat": 4,
 "nbformat_minor": 2
}
