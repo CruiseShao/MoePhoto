{
 "cells": [
  {
   "cell_type": "code",
   "execution_count": null,
   "metadata": {},
   "outputs": [],
   "source": [
    "import sys\n",
    "import os\n",
    "import torch\n",
    "from torch import nn\n",
    "sys.path.append(os.path.abspath('../python'))\n",
    "sys.path.append('../site-packages/nvidia-ml-py')"
   ]
  },
  {
   "cell_type": "code",
   "execution_count": null,
   "metadata": {},
   "outputs": [],
   "source": [
    "from moire_screen_gan import Net\n",
    "m = Net()"
   ]
  },
  {
   "cell_type": "code",
   "execution_count": null,
   "metadata": {},
   "outputs": [],
   "source": [
    "import re\n",
    "from functools import reduce\n",
    "getRoot = lambda w, r: tuple(filter(lambda s: s.startswith(r), w.keys()))\n",
    "replaces = lambda w, r, p, s: list((t, t.replace(p, s)) for t in getRoot(w, r + p))\n",
    "inserts = lambda w, r, p, s: list((t, t.replace(r + p, r + s + p)) for t in getRoot(w, r + p))\n",
    "getMatch = lambda o: o.group(1) if len(o.groups()) else o.group(0)\n",
    "def find(names, r):\n",
    "    r = re.compile(r)\n",
    "    return set(map(getMatch, filter(None, map(r.match, names))))\n",
    "findRs = lambda w, rs: reduce(set.union, (find(tuple(w.keys()), r) for r in rs))\n",
    "def changeName(w, old, new):\n",
    "    if new:\n",
    "        w[new] = w[old]\n",
    "    del w[old]\n",
    "def changeNames(w, names):\n",
    "    for old, new in names:\n",
    "        changeName(w, old, new)\n",
    "pf = lambda f, w, r: lambda p, s: [] if p is None else f(w, r, p, s)\n",
    "getNames = lambda w: lambda rst: reduce(lambda a, r: a + pf(replaces, w, r)(rst[1], rst[2]) + pf(inserts, w, r)(rst[3], rst[4]), findRs(w, rst[0]), [])\n",
    "cc = lambda w: lambda rsts: tuple(changeNames(w, getNames(w)(rst)) for rst in rsts)\n",
    "removeRoot = lambda w, r: tuple(changeName(w, old, None) for old in getRoot(w, r))"
   ]
  },
  {
   "cell_type": "code",
   "execution_count": null,
   "metadata": {},
   "outputs": [],
   "source": [
    "modelPath = '../model/demoire/moire_screen_gan.pth'\n",
    "weights = torch.load(modelPath, map_location='cpu')\n",
    "\n",
    "getW = getNames(weights)\n",
    "ccW = cc(weights)"
   ]
  },
  {
   "cell_type": "code",
   "execution_count": null,
   "metadata": {},
   "outputs": [],
   "source": [
    "#modelPath = 'moire_t.pth'\n",
    "torch.save(weights, modelPath, pickle_protocol=4)"
   ]
  },
  {
   "cell_type": "code",
   "execution_count": null,
   "metadata": {},
   "outputs": [],
   "source": [
    "weights = torch.load('moire_t.pth', map_location='cpu')"
   ]
  },
  {
   "cell_type": "code",
   "execution_count": null,
   "metadata": {},
   "outputs": [],
   "source": [
    "list(weights.keys())"
   ]
  },
  {
   "cell_type": "code",
   "execution_count": null,
   "metadata": {},
   "outputs": [],
   "source": [
    "w1 = m.state_dict()\n",
    "list(w1.keys())"
   ]
  },
  {
   "cell_type": "code",
   "execution_count": null,
   "metadata": {},
   "outputs": [],
   "source": [
    "fm1 = lambda i, s0, s1, s2: (s0.format(i + 1), s1.format(i + 1), s2.format(i))\n",
    "reT = lambda t: ((t[0],), t[1], t[2], None, None)\n",
    "rsts = [\n",
    "    ((r'branch.\\.convt_F..\\.',), 'ca1.', '0.ca.', None, None),\n",
    "    ((r'branch.\\.convt_F..\\.',), 'ca2.', '1.ca.', None, None),\n",
    "    ((r'branch.\\.convt_F..\\.',), 'relu1.', '0.relu.', None, None),\n",
    "    ((r'branch.\\.convt_F..\\.',), 'relu2.', '1.relu.', None, None),\n",
    "    ((r'branch.\\.convt_F..\\.',), 'conv1.', '0.conv1.', None, None),\n",
    "    ((r'branch.\\.convt_F..\\.',), 'conv2.', '0.conv2.', None, None),\n",
    "    ((r'branch.\\.convt_F..\\.',), 'conv3.', '1.conv1.', None, None),\n",
    "    ((r'branch.\\.convt_F..\\.',), 'conv4.', '1.conv2.', None, None),\n",
    "    ((r'branch.\\.convt_F..\\.[01]\\.',), None, None, '', '0.'),\n",
    "    ((r'branch.\\.u.\\.',), 'conv.', '0.', None, None),\n",
    "    ((r'branch.\\.u.\\.',), 'prelu.', '2.', None, None),\n",
    "    ((r'branch.\\.non_local\\.non_local\\.[^.]+\\.',), '0.', '', None, None)\n",
    "] + [\n",
    "    reT(fm1(i, r'(branch.\\.)convt_F1{}\\.', 'convt_F1{}.', 'convt_F.{}.')) for i in range(8)\n",
    "] + [\n",
    "    reT(fm1(i, r'(branch.\\.)s_conv{}\\.', 's_conv{}.', 's_conv.{}.')) for i in range(8)\n",
    "] + [\n",
    "    reT(fm1(i, r'(branch.\\.)u{}\\.', 'u{}.', 'u.{}.')) for i in range(8)\n",
    "] + [\n",
    "    reT(fm1(i, r'()branch{}\\.', 'branch{}.', 'branches.{}.')) for i in range(5)\n",
    "] + [\n",
    "    reT(fm1(i, r'()scale{}\\.', 'scale{}.', 'scales.{}.')) for i in range(5)\n",
    "] + [\n",
    "    reT(fm1(i, r'()down2_{}\\.', 'down2_{}.', '_down2.{}.')) for i in range(4)\n",
    "]"
   ]
  },
  {
   "cell_type": "code",
   "execution_count": null,
   "metadata": {},
   "outputs": [],
   "source": [
    "removeRoot(weights, 'branch6')\n",
    "removeRoot(weights, 'scale6')\n",
    "removeRoot(weights, 'down2_5')\n",
    "ccW(rsts)\n",
    "m.load_state_dict(weights)"
   ]
  },
  {
   "cell_type": "code",
   "execution_count": null,
   "metadata": {},
   "outputs": [],
   "source": [
    "torch.save(m.state_dict(), modelPath)"
   ]
  }
 ],
 "metadata": {
  "kernelspec": {
   "display_name": "Python 3.8",
   "language": "python",
   "name": "py3.8"
  },
  "language_info": {
   "codemirror_mode": {
    "name": "ipython",
    "version": 3
   },
   "file_extension": ".py",
   "mimetype": "text/x-python",
   "name": "python",
   "nbconvert_exporter": "python",
   "pygments_lexer": "ipython3",
   "version": "3.8.3"
  }
 },
 "nbformat": 4,
 "nbformat_minor": 2
}
